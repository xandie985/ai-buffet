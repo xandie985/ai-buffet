{
 "cells": [
  {
   "cell_type": "markdown",
   "metadata": {},
   "source": [
    "# Question Answering Engine\n",
    "\n",
    "from scratch using [Milvus](https://milvus.io/) and [Towhee](https://towhee.io/)."
   ]
  },
  {
   "cell_type": "markdown",
   "metadata": {},
   "source": [
    "### About Milvus\n",
    "\n",
    "Milvus is an open-source vector database designed to power the next generation of AI applications by efficiently storing, indexing, and searching massive collections of high-dimensional vectors used in machine learning and deep learning models.\n",
    "\n",
    "#### Key Features:\n",
    "- **High Performance:** Optimized for speed and scalability, enabling fast similarity searches on billions of vectors.\n",
    "- **Advanced Indexing:** Supports various indexing algorithms, including HNSW, IVF, and ScaNN.\n",
    "- **Hybrid Search:** Combines vector similarity search with scalar filtering to refine results and improve accuracy.\n",
    "- **Cloud-Native Architecture:** Features separated storage and computation layers for enhanced flexibility and elasticity.\n",
    "- **Ease of Use:** Provides intuitive SDKs for various programming languages, facilitating easy integration.\n",
    "\n",
    "#### Use Cases:\n",
    "- **Recommendation Systems:** Product, content, or service recommendations based on user preferences.\n",
    "- **Image and Video Search:** Searches for visually similar images or videos in large collections.\n",
    "- **Anomaly Detection:** Identifies unusual patterns or outliers, such as fraudulent transactions or defective products.\n",
    "- **Natural Language Processing (NLP):** Performs semantic search, clustering, and other NLP tasks based on text embeddings.\n",
    "- **Drug Discovery:** Analyzes molecular structures to identify potential drug candidates.\n",
    "\n",
    "#### Getting Started:\n",
    "- Download and install Milvus from GitHub: [Milvus GitHub](https://github.com/milvus-io/milvus)\n",
    "- For a managed solution, try Zilliz Cloud: [Zilliz Cloud](https://zilliz.com/what-is-milvus)\n",
    "\n",
    "---\n",
    "\n",
    "### About Towhee\n",
    "\n",
    "Towhee is a cutting-edge framework for processing unstructured data using Large Language Model (LLM) based pipeline orchestration. It transforms raw data such as text, images, audio, and video files into specific formats like text, image, or embeddings, which can then be efficiently stored in vector databases. Developers can easily prototype data processing pipelines using a user-friendly Pythonic API and optimize them for production environments.\n",
    "\n",
    "#### Key Features:\n",
    "- 🎨 **Multi Modalities:** Processes various data types, including images, video clips, text, audio files, and molecular structures.\n",
    "- 📃 **LLM Pipeline Orchestration:** Adapts to different LLMs, hosts open-source large models locally, and features prompt management and knowledge retrieval.\n",
    "- 🎓 **Rich Operators:** Provides over 140 ready-to-use state-of-the-art models for computer vision, NLP, multimodal, audio, and medical domains.\n",
    "- 🔌 **Prebuilt ETL Pipelines:** Offers ready-to-use ETL pipelines for tasks like Retrieval-Augmented Generation, Text Image search, and Video copy detection.\n",
    "- ⚡️ **High-Performance Backend:** Utilizes the Triton Inference Server to speed up model serving on CPU and GPU, and can convert Python pipelines into high-performance Docker containers.\n",
    "- 🐍 **Pythonic API:** Includes a Pythonic method-chaining API for describing custom data processing pipelines, making unstructured data processing as easy as handling tabular data.\n",
    "\n",
    "#### Core Concepts:\n",
    "- **Operators:** Basic building blocks of neural data processing pipelines, including deep learning models, data processing methods, or Python functions.\n",
    "- **Pipelines:** Composed of several operators interconnected as a directed acyclic graph (DAG) for complex functionalities.\n",
    "- **DataCollection API:** Pythonic, method-chaining style API for building custom pipelines with multiple data conversion interfaces.\n",
    "- **Engine:** Drives dataflow among operators, schedules tasks, and monitors compute resource usage, providing a basic engine for single-instance machines and a Triton-based engine for Docker containers.\n",
    "\n",
    "---"
   ]
  },
  {
   "cell_type": "markdown",
   "metadata": {},
   "source": [
    "## Preparations"
   ]
  },
  {
   "cell_type": "code",
   "execution_count": 3,
   "metadata": {},
   "outputs": [],
   "source": [
    "#Install Dependencies\n",
    "! python -m pip install -q towhee towhee.models gradio"
   ]
  },
  {
   "cell_type": "markdown",
   "metadata": {},
   "source": [
    "We use a subset of the [InsuranceQA Corpus](https://github.com/shuzi/insuranceQA) (1000 pairs of questions and answers).\n",
    "\n",
    "Link to download: [Github](https://github.com/towhee-io/examples/releases/download/data/question_answer.csv)."
   ]
  },
  {
   "cell_type": "code",
   "execution_count": 4,
   "metadata": {},
   "outputs": [
    {
     "name": "stdout",
     "output_type": "stream",
     "text": [
      "  % Total    % Received % Xferd  Average Speed   Time    Time     Time  Current\n",
      "                                 Dload  Upload   Total   Spent    Left  Speed\n",
      "  0     0    0     0    0     0      0      0 --:--:-- --:--:-- --:--:--     0\n",
      "100  595k  100  595k    0     0   586k      0  0:00:01  0:00:01 --:--:--  866k\n"
     ]
    }
   ],
   "source": [
    "# Prepare the Data\n",
    "! curl -L https://github.com/towhee-io/examples/releases/download/data/question_answer.csv -O"
   ]
  },
  {
   "cell_type": "code",
   "execution_count": 5,
   "metadata": {},
   "outputs": [
    {
     "name": "stderr",
     "output_type": "stream",
     "text": [
      "/Users/wenda/anaconda3/lib/python3.11/site-packages/pandas/core/arrays/masked.py:60: UserWarning: Pandas requires version '1.3.6' or newer of 'bottleneck' (version '1.3.5' currently installed).\n",
      "  from pandas.core import (\n"
     ]
    },
    {
     "data": {
      "text/html": [
       "<div>\n",
       "<style scoped>\n",
       "    .dataframe tbody tr th:only-of-type {\n",
       "        vertical-align: middle;\n",
       "    }\n",
       "\n",
       "    .dataframe tbody tr th {\n",
       "        vertical-align: top;\n",
       "    }\n",
       "\n",
       "    .dataframe thead th {\n",
       "        text-align: right;\n",
       "    }\n",
       "</style>\n",
       "<table border=\"1\" class=\"dataframe\">\n",
       "  <thead>\n",
       "    <tr style=\"text-align: right;\">\n",
       "      <th></th>\n",
       "      <th>id</th>\n",
       "      <th>question</th>\n",
       "      <th>answer</th>\n",
       "    </tr>\n",
       "  </thead>\n",
       "  <tbody>\n",
       "    <tr>\n",
       "      <th>0</th>\n",
       "      <td>0</td>\n",
       "      <td>Is  Disability  Insurance  Required  By  Law?</td>\n",
       "      <td>Not generally. There are five states that requ...</td>\n",
       "    </tr>\n",
       "    <tr>\n",
       "      <th>1</th>\n",
       "      <td>1</td>\n",
       "      <td>Can  Creditors  Take  Life  Insurance  After  ...</td>\n",
       "      <td>If the person who passed away was the one with...</td>\n",
       "    </tr>\n",
       "    <tr>\n",
       "      <th>2</th>\n",
       "      <td>2</td>\n",
       "      <td>Does  Travelers  Insurance  Have  Renters  Ins...</td>\n",
       "      <td>One of the insurance carriers I represent is T...</td>\n",
       "    </tr>\n",
       "    <tr>\n",
       "      <th>3</th>\n",
       "      <td>3</td>\n",
       "      <td>Can  I  Drive  A  New  Car  Home  Without  Ins...</td>\n",
       "      <td>Most auto dealers will not let you drive the c...</td>\n",
       "    </tr>\n",
       "    <tr>\n",
       "      <th>4</th>\n",
       "      <td>4</td>\n",
       "      <td>Is  The  Cash  Surrender  Value  Of  Life  Ins...</td>\n",
       "      <td>Cash surrender value comes only with Whole Lif...</td>\n",
       "    </tr>\n",
       "  </tbody>\n",
       "</table>\n",
       "</div>"
      ],
      "text/plain": [
       "   id                                           question  \\\n",
       "0   0      Is  Disability  Insurance  Required  By  Law?   \n",
       "1   1  Can  Creditors  Take  Life  Insurance  After  ...   \n",
       "2   2  Does  Travelers  Insurance  Have  Renters  Ins...   \n",
       "3   3  Can  I  Drive  A  New  Car  Home  Without  Ins...   \n",
       "4   4  Is  The  Cash  Surrender  Value  Of  Life  Ins...   \n",
       "\n",
       "                                              answer  \n",
       "0  Not generally. There are five states that requ...  \n",
       "1  If the person who passed away was the one with...  \n",
       "2  One of the insurance carriers I represent is T...  \n",
       "3  Most auto dealers will not let you drive the c...  \n",
       "4  Cash surrender value comes only with Whole Lif...  "
      ]
     },
     "execution_count": 5,
     "metadata": {},
     "output_type": "execute_result"
    }
   ],
   "source": [
    "import pandas as pd\n",
    "df = pd.read_csv('question_answer.csv')\n",
    "df.head()"
   ]
  },
  {
   "cell_type": "code",
   "execution_count": 9,
   "metadata": {},
   "outputs": [
    {
     "data": {
      "text/plain": [
       "[(0,\n",
       "  'Not generally. There are five states that require most all employers carry short term disability insurance on their employees. These states are: California, Hawaii, New Jersey, New York, and Rhode Island. Besides this mandatory short term disability law, there is no other legislative imperative for someone to purchase or be covered by disability insurance.'),\n",
       " (1,\n",
       "  'If the person who passed away was the one with the debt, creditors generally cannot take the life insurance proceeds left as long as the beneficiary was a person. The money then belongs to that beneficiary, and as long as creditors do not have a claim against the beneficiary, they cannot take life insurance proceeds from them.'),\n",
       " (2,\n",
       "  'One of the insurance carriers I represent is Travelers and yes, you can purchase Renters insurance through Travelers. I would look for a local agent who can assist you in placing a renters policy if you are interested. I am sure the local agent would be happy to quote Travelers if they have access and other carries as well.'),\n",
       " (3,\n",
       "  'Most auto dealers will not let you drive the car off of the lot unless you have proof of insurance if there is a loan on the car. It is never a good idea to drive a car without insurance. If you traded a car in, then the coverage on the older car may extend to the new car temporarily, but you need to call your agent as soon as possible and get it changed. Most dealerships have an insurance agent they work with who can get you coverage as well.'),\n",
       " (4,\n",
       "  'Cash surrender value comes only with Whole Life Insurance, never with Term. It is the amount you can terminate your policy and receive. That amount includes both what you put in and what profit you made. The profit is taxable, just as most profit would be taxable. A far better idea would be NOT to surrender your Whole Life Policy, but instead to keep it and borrow against it and either then not repay it or choose to repay it as you wish. You continue to grow in value, even when the loan is out, and your policy stays in force, although the death benefit is reduced by the loan until it is paid back. There are numerous option you should discuss with a qualified agent. Gary Lane, Registered Representative, New York Life, 949 797 2424. Call anytime. Thank you.')]"
      ]
     },
     "execution_count": 9,
     "metadata": {},
     "output_type": "execute_result"
    }
   ],
   "source": [
    "# id_answer: a dictionary of id and corresponding answer\n",
    "id_answer = df.set_index('id')['answer'].to_dict()\n",
    "list(id_answer.items())[:5]"
   ]
  },
  {
   "cell_type": "markdown",
   "metadata": {},
   "source": [
    "#### Creating Milvus Collection"
   ]
  },
  {
   "cell_type": "code",
   "execution_count": 10,
   "metadata": {},
   "outputs": [
    {
     "name": "stdout",
     "output_type": "stream",
     "text": [
      "\u001b[31mERROR: pip's dependency resolver does not currently take into account all the packages that are installed. This behaviour is the source of the following dependency conflicts.\n",
      "grpcio-status 1.62.2 requires grpcio>=1.62.2, but you have grpcio 1.53.0 which is incompatible.\n",
      "grpcio-status 1.62.2 requires protobuf>=4.21.6, but you have protobuf 3.20.3 which is incompatible.\n",
      "grpcio-tools 1.62.2 requires grpcio>=1.62.2, but you have grpcio 1.53.0 which is incompatible.\n",
      "grpcio-tools 1.62.2 requires protobuf<5.0dev,>=4.21.6, but you have protobuf 3.20.3 which is incompatible.\u001b[0m\u001b[31m\n",
      "\u001b[0m"
     ]
    }
   ],
   "source": [
    "! python -m pip install -q pymilvus==2.2.11"
   ]
  },
  {
   "cell_type": "code",
   "execution_count": null,
   "metadata": {},
   "outputs": [],
   "source": []
  }
 ],
 "metadata": {
  "kernelspec": {
   "display_name": "base",
   "language": "python",
   "name": "python3"
  },
  "language_info": {
   "codemirror_mode": {
    "name": "ipython",
    "version": 3
   },
   "file_extension": ".py",
   "mimetype": "text/x-python",
   "name": "python",
   "nbconvert_exporter": "python",
   "pygments_lexer": "ipython3",
   "version": "3.11.5"
  }
 },
 "nbformat": 4,
 "nbformat_minor": 2
}
